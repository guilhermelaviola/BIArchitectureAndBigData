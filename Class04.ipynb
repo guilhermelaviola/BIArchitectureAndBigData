{
  "nbformat": 4,
  "nbformat_minor": 0,
  "metadata": {
    "colab": {
      "provenance": [],
      "authorship_tag": "ABX9TyOSgcFnG0crliWYu3vWOXj2",
      "include_colab_link": true
    },
    "kernelspec": {
      "name": "python3",
      "display_name": "Python 3"
    },
    "language_info": {
      "name": "python"
    }
  },
  "cells": [
    {
      "cell_type": "markdown",
      "metadata": {
        "id": "view-in-github",
        "colab_type": "text"
      },
      "source": [
        "<a href=\"https://colab.research.google.com/github/guilhermelaviola/BIArchitectureAndBigData/blob/main/Class04.ipynb\" target=\"_parent\"><img src=\"https://colab.research.google.com/assets/colab-badge.svg\" alt=\"Open In Colab\"/></a>"
      ]
    },
    {
      "cell_type": "code",
      "execution_count": 1,
      "metadata": {
        "id": "uK9RmMC3wwFe"
      },
      "outputs": [],
      "source": [
        "# Importing all the necessary libraries:\n",
        "import pandas as pd\n",
        "pd.set_option('display.max_columns', None)\n",
        "import matplotlib.pyplot as plt\n",
        "from wordcloud import WordCloud\n",
        "from collections import Counter\n",
        "import spacy"
      ]
    },
    {
      "cell_type": "code",
      "source": [
        "# Importing and displaying the dataset:\n",
        "df = pd.read_csv('amostra_avaliacao_loja.csv')\n",
        "df"
      ],
      "metadata": {
        "id": "JeUDXZG3w7br"
      },
      "execution_count": null,
      "outputs": []
    },
    {
      "cell_type": "code",
      "source": [
        "# Displaying the dataset columns:\n",
        "df.columns"
      ],
      "metadata": {
        "id": "8RSLd0l0xptJ"
      },
      "execution_count": null,
      "outputs": []
    },
    {
      "cell_type": "code",
      "source": [
        "df['Texto da Avaliação'] = df['Texto da Avaliação'].fillna('').astype(str)\n",
        "concat_text = ' '.join(df['Texto da Avaliação'])\n",
        "words = concat_text.lower().split()\n",
        "frequency = Counter(words)\n",
        "df_frequency = pd.DataFrame(frequency.items(), columns=['palavra', 'frequencia'])\n",
        "df_frequency.sort_values(by='frequencia', ascending=False, inplace=True)\n",
        "df_frequency.reset_index(drop=True, inplace=True)\n",
        "df_frequency"
      ],
      "metadata": {
        "id": "462zxCJfxzCh"
      },
      "execution_count": null,
      "outputs": []
    },
    {
      "cell_type": "code",
      "source": [
        "nlp = spacy.load('pt_core_news_sm')\n",
        "\n",
        "def find_adjectives(text):\n",
        "  doc = nlp(text)\n",
        "  adjectives = [token.text.lower() for token in doc if token.pos_ == 'ADJ']\n",
        "  return adjectives"
      ],
      "metadata": {
        "id": "ituJ6nNtymfH"
      },
      "execution_count": null,
      "outputs": []
    },
    {
      "cell_type": "code",
      "source": [
        "all_adjectives = []\n",
        "\n",
        "for evaluation in df['Texto da Avaliação'].dropna():\n",
        "  all_adjectives.extend(find_adjectives(evaluation))\n",
        "adjectives_frequency = Counter(all_adjectives)\n",
        "df_adjectives = pd.DataFrame(adjectives_frequency.items(), columns=['Adjetivo', 'Frequencia'])\n",
        "df_adjectives.sort_values(by='Frequencia', ascending=False, inplace=True)\n",
        "df_adjectives.reset_index(drop=True, inplace=True)\n",
        "df_adjectives"
      ],
      "metadata": {
        "id": "YnpxchD50CmP"
      },
      "execution_count": null,
      "outputs": []
    },
    {
      "cell_type": "code",
      "source": [
        "wordcloud = WordCloud(width=800, height=400, background_color='white').generate_from_frequencies(df_adjectives.set_index('Adjetivo')['Frequencia'])"
      ],
      "metadata": {
        "id": "eD5sj4I60Dgo"
      },
      "execution_count": null,
      "outputs": []
    },
    {
      "cell_type": "code",
      "source": [
        "plt.figure(figsize=(10, 5))\n",
        "plt.imshow(wordcloud, interpolation='bilinear')\n",
        "plt.axis('off')\n",
        "plt.show()"
      ],
      "metadata": {
        "id": "rZ6YwUhJ0Kkd"
      },
      "execution_count": null,
      "outputs": []
    }
  ]
}