{
  "nbformat": 4,
  "nbformat_minor": 0,
  "metadata": {
    "colab": {
      "provenance": [],
      "authorship_tag": "ABX9TyP4KPZ74KVofuzeW+l9wzQy",
      "include_colab_link": true
    },
    "kernelspec": {
      "name": "python3",
      "display_name": "Python 3"
    },
    "language_info": {
      "name": "python"
    }
  },
  "cells": [
    {
      "cell_type": "markdown",
      "metadata": {
        "id": "view-in-github",
        "colab_type": "text"
      },
      "source": [
        "<a href=\"https://colab.research.google.com/github/guilhermelaviola/BIArchitectureAndBigData/blob/main/Class14.ipynb\" target=\"_parent\"><img src=\"https://colab.research.google.com/assets/colab-badge.svg\" alt=\"Open In Colab\"/></a>"
      ]
    },
    {
      "cell_type": "markdown",
      "source": [
        "\n",
        "# **BI**\n",
        "\n"
      ],
      "metadata": {
        "id": "xuDc3CwOULXf"
      }
    },
    {
      "cell_type": "code",
      "execution_count": 1,
      "metadata": {
        "id": "Q1asZ1VbUHqt",
        "outputId": "c55f7e90-4a31-432d-9e89-0c3aafb9dee7",
        "colab": {
          "base_uri": "https://localhost:8080/",
          "height": 385
        }
      },
      "outputs": [
        {
          "output_type": "error",
          "ename": "ModuleNotFoundError",
          "evalue": "No module named 'elasticsearch'",
          "traceback": [
            "\u001b[0;31m---------------------------------------------------------------------------\u001b[0m",
            "\u001b[0;31mModuleNotFoundError\u001b[0m                       Traceback (most recent call last)",
            "\u001b[0;32m<ipython-input-1-d6bbd182b0e5>\u001b[0m in \u001b[0;36m<cell line: 0>\u001b[0;34m()\u001b[0m\n\u001b[1;32m      1\u001b[0m \u001b[0;31m# Importing all the necessary resources:\u001b[0m\u001b[0;34m\u001b[0m\u001b[0;34m\u001b[0m\u001b[0m\n\u001b[0;32m----> 2\u001b[0;31m \u001b[0;32mfrom\u001b[0m \u001b[0melasticsearch\u001b[0m \u001b[0;32mimport\u001b[0m \u001b[0mElasticsearch\u001b[0m\u001b[0;34m,\u001b[0m \u001b[0mhelpers\u001b[0m\u001b[0;34m\u001b[0m\u001b[0;34m\u001b[0m\u001b[0m\n\u001b[0m\u001b[1;32m      3\u001b[0m \u001b[0;32mimport\u001b[0m \u001b[0mpandas\u001b[0m \u001b[0;32mas\u001b[0m \u001b[0mpd\u001b[0m\u001b[0;34m\u001b[0m\u001b[0;34m\u001b[0m\u001b[0m\n\u001b[1;32m      4\u001b[0m \u001b[0;32mimport\u001b[0m \u001b[0mos\u001b[0m\u001b[0;34m\u001b[0m\u001b[0;34m\u001b[0m\u001b[0m\n",
            "\u001b[0;31mModuleNotFoundError\u001b[0m: No module named 'elasticsearch'",
            "",
            "\u001b[0;31m---------------------------------------------------------------------------\u001b[0;32m\nNOTE: If your import is failing due to a missing package, you can\nmanually install dependencies using either !pip or !apt.\n\nTo view examples of installing some common dependencies, click the\n\"Open Examples\" button below.\n\u001b[0;31m---------------------------------------------------------------------------\u001b[0m\n"
          ],
          "errorDetails": {
            "actions": [
              {
                "action": "open_url",
                "actionText": "Open Examples",
                "url": "/notebooks/snippets/importing_libraries.ipynb"
              }
            ]
          }
        }
      ],
      "source": [
        "# Importing all the necessary resources:\n",
        "from elasticsearch import Elasticsearch, helpers\n",
        "import pandas as pd\n",
        "import os"
      ]
    },
    {
      "cell_type": "code",
      "source": [
        "es = Elasticsearch(\n",
        "    'http://localhost:9200',\n",
        "    http_auth=('elastic', 'elastic')"
      ],
      "metadata": {
        "id": "inA8j3Mlvbh1",
        "outputId": "23716e65-4d32-40e8-c601-a1eba0bdf4cf",
        "colab": {
          "base_uri": "https://localhost:8080/",
          "height": 111
        }
      },
      "execution_count": 2,
      "outputs": [
        {
          "output_type": "error",
          "ename": "SyntaxError",
          "evalue": "incomplete input (<ipython-input-2-33d30bd08b50>, line 3)",
          "traceback": [
            "\u001b[0;36m  File \u001b[0;32m\"<ipython-input-2-33d30bd08b50>\"\u001b[0;36m, line \u001b[0;32m3\u001b[0m\n\u001b[0;31m    http_auth=('elastic', 'elastic')\u001b[0m\n\u001b[0m                                    ^\u001b[0m\n\u001b[0;31mSyntaxError\u001b[0m\u001b[0;31m:\u001b[0m incomplete input\n"
          ]
        }
      ]
    },
    {
      "cell_type": "code",
      "source": [
        "# Defining the function:\n",
        "def index_parquet_files():\n",
        "  for filename in os.listdir(parquet_path):\n",
        "    if filename.endswith('.parquet'):\n",
        "      # Reading the Parquet file:\n",
        "      df = pd.read_parquet(os.path.join(parquet_path, filename))\n",
        "\n",
        "      # Converting DataFrame to dictionary for insertion in Elasticsearch\n",
        "      records = df.to_dict(orient='records')\n",
        "\n",
        "      # Preparing the data for insertion with Bulk API\n",
        "      actions = [\n",
        "          '_index': 'test',  # replace 'test' with your index name\n",
        "          '_source': record\n",
        "          }\n",
        "\n",
        "          for record in records\n",
        "      ]\n",
        "\n",
        "      # Inserting data into Elasticsearch:\n",
        "      helpers.bulk(es, actions)\n",
        "\n",
        "# Executing the function:\n",
        "index_parquet_files()"
      ],
      "metadata": {
        "id": "PUn-NzY8vo34"
      },
      "execution_count": null,
      "outputs": []
    },
    {
      "cell_type": "code",
      "source": [
        "# Defining the index to be searched:\n",
        "index = 'test'\n",
        "\n",
        "# Defining the search query:\n",
        "query = {\n",
        "    'query': {\n",
        "        'match_all': {}  # This is a simple query that returns all the documents.\n",
        "    },\n",
        "    'size': 200\n",
        "}"
      ],
      "metadata": {
        "id": "2rCDq_cywnAJ"
      },
      "execution_count": null,
      "outputs": []
    },
    {
      "cell_type": "code",
      "source": [
        "# Executing the query:\n",
        "response = es.search(index=index, body=query)\n",
        "\n",
        "# Printing the results:\n",
        "for hit in response['hits']['hits']:\n",
        "  print(hit['_source'])"
      ],
      "metadata": {
        "id": "aL2f14qKw6on"
      },
      "execution_count": null,
      "outputs": []
    }
  ]
}