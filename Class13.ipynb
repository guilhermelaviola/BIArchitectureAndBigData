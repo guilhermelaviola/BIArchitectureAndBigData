{
  "nbformat": 4,
  "nbformat_minor": 0,
  "metadata": {
    "colab": {
      "provenance": [],
      "authorship_tag": "ABX9TyMIx5xygVmC03d7orvEUOyW",
      "include_colab_link": true
    },
    "kernelspec": {
      "name": "python3",
      "display_name": "Python 3"
    },
    "language_info": {
      "name": "python"
    }
  },
  "cells": [
    {
      "cell_type": "markdown",
      "metadata": {
        "id": "view-in-github",
        "colab_type": "text"
      },
      "source": [
        "<a href=\"https://colab.research.google.com/github/guilhermelaviola/BIArchitectureAndBigData/blob/main/Class13.ipynb\" target=\"_parent\"><img src=\"https://colab.research.google.com/assets/colab-badge.svg\" alt=\"Open In Colab\"/></a>"
      ]
    },
    {
      "cell_type": "markdown",
      "source": [
        "\n",
        "# **BI**\n",
        "\n"
      ],
      "metadata": {
        "id": "xuDc3CwOULXf"
      }
    },
    {
      "cell_type": "code",
      "execution_count": null,
      "metadata": {
        "id": "Q1asZ1VbUHqt"
      },
      "outputs": [],
      "source": [
        "# Importing all the necessary resources:\n",
        "import pandas as pd"
      ]
    },
    {
      "cell_type": "code",
      "source": [
        "for i, chunk in enumerate(pd.read_csv('price_paid_records.csv', chunksize=2000000)):\n",
        "  chunk.to_parquet(f'output_chunk_{i}.parquet')"
      ],
      "metadata": {
        "id": "xMkwtlEoQj0w"
      },
      "execution_count": null,
      "outputs": []
    },
    {
      "cell_type": "code",
      "source": [
        "for i, chunk in enumerate(pd.read_csv('price_paid_records.csv', chunksize=2000000)):\n",
        "  chunk.to_parquet(f'output_chunk_{i}.parquet')\n",
        "  if i == 0:\n",
        "    break"
      ],
      "metadata": {
        "id": "JhbzWpRtQng7"
      },
      "execution_count": null,
      "outputs": []
    },
    {
      "cell_type": "code",
      "source": [
        "df = pd.read_parquet('parquet/output_chunk_0.parquet')\n",
        "df"
      ],
      "metadata": {
        "id": "3NaZFRsXSIH0"
      },
      "execution_count": null,
      "outputs": []
    }
  ]
}