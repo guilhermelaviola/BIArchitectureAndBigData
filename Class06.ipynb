{
  "nbformat": 4,
  "nbformat_minor": 0,
  "metadata": {
    "colab": {
      "provenance": [],
      "authorship_tag": "ABX9TyOEoCQf6Tswr1oz7AITIH+n",
      "include_colab_link": true
    },
    "kernelspec": {
      "name": "python3",
      "display_name": "Python 3"
    },
    "language_info": {
      "name": "python"
    }
  },
  "cells": [
    {
      "cell_type": "markdown",
      "metadata": {
        "id": "view-in-github",
        "colab_type": "text"
      },
      "source": [
        "<a href=\"https://colab.research.google.com/github/guilhermelaviola/BIArchitectureAndBigData/blob/main/Class06.ipynb\" target=\"_parent\"><img src=\"https://colab.research.google.com/assets/colab-badge.svg\" alt=\"Open In Colab\"/></a>"
      ]
    },
    {
      "cell_type": "code",
      "execution_count": null,
      "metadata": {
        "id": "gwQ5UP3Hsn4C"
      },
      "outputs": [],
      "source": [
        "# Importing all the necessary libraries:\n",
        "import pandas as pd\n",
        "import gdown\n",
        "import seaborn as sns\n",
        "import matplotlib.pyplot as plt"
      ]
    },
    {
      "cell_type": "code",
      "source": [
        "!gdown 1uZUL9YG02LIxRx0zG8UCcfWjrVpn2d7e"
      ],
      "metadata": {
        "id": "G8NbBrjFsvmd"
      },
      "execution_count": null,
      "outputs": []
    },
    {
      "cell_type": "code",
      "source": [
        "df = pd.read_csv('SOCR-HeightWeight.csv')\n",
        "\n",
        "df"
      ],
      "metadata": {
        "id": "2-9p25K6syqU"
      },
      "execution_count": null,
      "outputs": []
    },
    {
      "cell_type": "code",
      "source": [
        "df['Height (Inches)'] = df['Height (Inches)'] * 0.0254\n",
        "df['Weight (Pounds)'] = df['Weight (Pounds)'] * 0.4535\n",
        "\n",
        "df"
      ],
      "metadata": {
        "id": "eZ7RXdohs5-C"
      },
      "execution_count": null,
      "outputs": []
    },
    {
      "cell_type": "code",
      "source": [
        "df = df.rename(columns = {'Height (Inches)': 'Height (meters)', 'Weight (Pounds)': 'Weight (kilos)'})\n",
        "\n",
        "df"
      ],
      "metadata": {
        "id": "qreYPgNfs-MS"
      },
      "execution_count": null,
      "outputs": []
    },
    {
      "cell_type": "code",
      "source": [
        "df.describe()"
      ],
      "metadata": {
        "id": "i6doUKDPtoh6"
      },
      "execution_count": null,
      "outputs": []
    },
    {
      "cell_type": "code",
      "source": [
        "sns.set(style='whitegrid')\n",
        "plt.figure(figsize=(10, 6))\n",
        "sns.histplot(df['Height (meters)'], kde=True, color='skyblue', bins=30, stat='density')\n",
        "plt.title('Normal Distribution')\n",
        "plt.xlabel('Values')\n",
        "plt.ylabel('Density')\n",
        "plt.show()"
      ],
      "metadata": {
        "id": "5sbmwiFets8F"
      },
      "execution_count": null,
      "outputs": []
    },
    {
      "cell_type": "code",
      "source": [
        "sns.set(style='whitegrid')\n",
        "plt.figure(figsize=(10, 6))\n",
        "sns.histplot(df['Weight (kilos)'], kde=True, color='skyblue', bins=30, stat='density')\n",
        "plt.title('Normal Distribution')\n",
        "plt.xlabel('Values')\n",
        "plt.ylabel('Density')\n",
        "plt.show()"
      ],
      "metadata": {
        "id": "T-uqBo26t517"
      },
      "execution_count": null,
      "outputs": []
    },
    {
      "cell_type": "code",
      "source": [
        "plt.figure(figsize=(10, 6))\n",
        "sns.regplot(x='Height (meters)', y='Weight (kilos)', data=df, scatter_kws={'alpha':0.5}, line_kws={'color':'red'})\n",
        "plt.title(\"Scatter Plot (Height x Weight) with Linear Regression\")\n",
        "plt.xlabel('Height (meters)')\n",
        "plt.ylabel('Weight (kilos)')\n",
        "plt.show()"
      ],
      "metadata": {
        "id": "EGscED6MuHu5"
      },
      "execution_count": null,
      "outputs": []
    }
  ]
}