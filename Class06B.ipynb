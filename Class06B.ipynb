{
  "nbformat": 4,
  "nbformat_minor": 0,
  "metadata": {
    "colab": {
      "provenance": [],
      "authorship_tag": "ABX9TyMMUJ0vMhjz6mFxuEuhIn13",
      "include_colab_link": true
    },
    "kernelspec": {
      "name": "python3",
      "display_name": "Python 3"
    },
    "language_info": {
      "name": "python"
    }
  },
  "cells": [
    {
      "cell_type": "markdown",
      "metadata": {
        "id": "view-in-github",
        "colab_type": "text"
      },
      "source": [
        "<a href=\"https://colab.research.google.com/github/guilhermelaviola/BIArchitectureAndBigData/blob/main/Class06B.ipynb\" target=\"_parent\"><img src=\"https://colab.research.google.com/assets/colab-badge.svg\" alt=\"Open In Colab\"/></a>"
      ]
    },
    {
      "cell_type": "code",
      "execution_count": 5,
      "metadata": {
        "id": "OX6NhBKazfj1"
      },
      "outputs": [],
      "source": [
        "# Importing all the necessary libraries:\n",
        "import pandas as pd\n",
        "import numpy as np\n",
        "import scipy.stats as stats"
      ]
    },
    {
      "cell_type": "code",
      "source": [
        "# Setting random seed for reproducibility:\n",
        "np.random.seed(42)\n",
        "\n",
        "# Setting the number of violunteers:\n",
        "num_volunteers = 100\n",
        "\n",
        "# Generating the volunteers IDs:\n",
        "volunteers = np.arange(1, num_volunteers + 1)\n",
        "\n",
        "# Randomly assigning groups (50% Cream, 50% Placebo):\n",
        "groups = np.random.choice(['Cream', 'Placebo'], size=num_volunteers)\n",
        "\n",
        "# Generating wrinkle depth values (between 0 and 1):\n",
        "wrinkle_depths = np.round(np.random.uniform(0, 1, num_volunteers), 3)\n",
        "\n",
        "# Generating the DataFrame:\n",
        "df = pd.DataFrame({\n",
        "    'Volunteers': volunteers,\n",
        "    'Group': groups,\n",
        "    'Wrinkle Depth': wrinkle_depths\n",
        "})\n",
        "\n",
        "# Display first few rows\n",
        "print(df.head())"
      ],
      "metadata": {
        "colab": {
          "base_uri": "https://localhost:8080/"
        },
        "id": "dNOYxB6jQOI4",
        "outputId": "69b14bc3-6f69-4f56-8b37-b1981d875e50"
      },
      "execution_count": 7,
      "outputs": [
        {
          "output_type": "stream",
          "name": "stdout",
          "text": [
            "   Volunteers    Group  Wrinkle Depth\n",
            "0           1    Cream          0.970\n",
            "1           2  Placebo          0.775\n",
            "2           3    Cream          0.939\n",
            "3           4    Cream          0.895\n",
            "4           5    Cream          0.598\n"
          ]
        }
      ]
    },
    {
      "cell_type": "code",
      "source": [
        "# Separating data into two groups:\n",
        "cream_group = df[df['Group'] == 'Cream']['Wrinkle Depth']\n",
        "placebo_group = df[df['Group'] == 'Placebo']['Wrinkle Depth']\n",
        "\n",
        "# Checking normality (Shapiro-Wilk test):\n",
        "shapiro_cream = stats.shapiro(cream_group)\n",
        "shapiro_placebo = stats.shapiro(placebo_group)\n",
        "print(f'Shapiro-Wilk Test (Cream group): p-value = {shapiro_cream.pvalue:.4f}')\n",
        "print(f'Shapiro-Wilk Test (Placebo group): p-value = {shapiro_placebo.pvalue:.4f}')\n",
        "\n",
        "# Checking variance equality (Levene's test):\n",
        "levene_test = stats.levene(cream_group, placebo_group)\n",
        "print(f'Levene Test for Equal Variance: p-value = {levene_test.pvalue:.4f}')\n",
        "\n",
        "# Performing the independent t-test:\n",
        "equal_var = levene_test.pvalue > 0.05\n",
        "t_stat, p_value = stats.ttest_ind(cream_group, placebo_group, equal_var=equal_var)"
      ],
      "metadata": {
        "colab": {
          "base_uri": "https://localhost:8080/"
        },
        "id": "gqE5HeiyRGui",
        "outputId": "3387e2cb-a385-474d-bb4e-d81c9fd72ac1"
      },
      "execution_count": 8,
      "outputs": [
        {
          "output_type": "stream",
          "name": "stdout",
          "text": [
            "Shapiro-Wilk Test (Cream group): p-value = 0.0052\n",
            "Shapiro-Wilk Test (Placebo group): p-value = 0.0068\n",
            "Levene Test for Equal Variance: p-value = 0.5408\n"
          ]
        }
      ]
    },
    {
      "cell_type": "code",
      "source": [
        "# Displaying the results:\n",
        "print(f'T-statistic: {t_stat:.4f}, P-value: {p_value:.4f}')\n",
        "\n",
        "# Interpreting the results:\n",
        "alpha = 0.05\n",
        "if p_value < alpha:\n",
        "    print('The anti-wrinkle cream significantly reduces wrinkles.')\n",
        "else:\n",
        "    print('No significant differences found.')"
      ],
      "metadata": {
        "colab": {
          "base_uri": "https://localhost:8080/"
        },
        "id": "fw7reIjZUWUi",
        "outputId": "4ab2f7d2-c423-4ad0-9750-f5448b69f9ca"
      },
      "execution_count": 9,
      "outputs": [
        {
          "output_type": "stream",
          "name": "stdout",
          "text": [
            "T-statistic: -0.2427, P-value: 0.8087\n",
            "No significant differences found.\n"
          ]
        }
      ]
    }
  ]
}